{
  "nbformat": 4,
  "nbformat_minor": 0,
  "metadata": {
    "colab": {
      "name": "PemaYangden- Module1.ipynb",
      "version": "0.3.2",
      "provenance": [],
      "collapsed_sections": [],
      "include_colab_link": true
    },
    "kernelspec": {
      "name": "python3",
      "display_name": "Python 3"
    }
  },
  "cells": [
    {
      "cell_type": "markdown",
      "metadata": {
        "id": "view-in-github",
        "colab_type": "text"
      },
      "source": [
        "<a href=\"https://colab.research.google.com/github/PemYanZen/CSPP-1-2019/blob/master/PemaYangden_Module1.ipynb\" target=\"_parent\"><img src=\"https://colab.research.google.com/assets/colab-badge.svg\" alt=\"Open In Colab\"/></a>"
      ]
    },
    {
      "metadata": {
        "id": "0YLZuu0WNJ5P",
        "colab_type": "text"
      },
      "cell_type": "markdown",
      "source": [
        "The parameter weekday is True if it is a weekday, and the parameter vacation is True if we are on vacation. We sleep in if it is not a weekday or we're on vacation. Return True if we sleep in.\n",
        "\n",
        "\n",
        "sleep_in(False, False) → True\n",
        "sleep_in(True, False) → False\n",
        "sleep_in(False, True) → True"
      ]
    },
    {
      "metadata": {
        "id": "giOzcIImNkkp",
        "colab_type": "code",
        "outputId": "f29f3292-98c1-4d48-e80e-6961646dda89",
        "colab": {
          "base_uri": "https://localhost:8080/",
          "height": 34
        }
      },
      "cell_type": "code",
      "source": [
        "def sleep_in(weekday, vacation):\n",
        "  if(weekday==False or vacation):\n",
        "    return True\n",
        "  else:\n",
        "    return False\n",
        "  \n",
        "assert sleep_in(False, False) == True\n",
        "assert sleep_in(True, False) == False\n",
        "assert sleep_in(False, True) == True\n",
        "print(\"All the testcases passed!!!\")"
      ],
      "execution_count": 0,
      "outputs": [
        {
          "output_type": "stream",
          "text": [
            "All the testcases passed!!!\n"
          ],
          "name": "stdout"
        }
      ]
    },
    {
      "metadata": {
        "id": "MSJjGpMoOL75",
        "colab_type": "text"
      },
      "cell_type": "markdown",
      "source": [
        "We have two monkeys, a and b, and the parameters a_smile and b_smile indicate if each is smiling. We are in trouble if they are both smiling or if neither of them is smiling. Return True if we are in trouble.\n",
        "\n",
        "\n",
        "monkey_trouble(True, True) → True\n",
        "monkey_trouble(False, False) → True\n",
        "monkey_trouble(True, False) → False"
      ]
    },
    {
      "metadata": {
        "id": "WCxOzKqZOUN1",
        "colab_type": "code",
        "outputId": "69102ac6-7467-4584-dd7a-87391438a545",
        "colab": {
          "base_uri": "https://localhost:8080/",
          "height": 34
        }
      },
      "cell_type": "code",
      "source": [
        "def monkey_trouble(a_smile, b_smile):\n",
        "  if(a_smile and b_smile):\n",
        "    return True\n",
        "  if(a_smile == False and b_smile == False):\n",
        "    return True\n",
        "  if(a_smile or b_smile == False):\n",
        "    return False\n",
        "  if(a_smile == False or b_smile == True):\n",
        "    return False\n",
        "    \n",
        "    \n",
        "\n",
        "assert monkey_trouble(True, True) == True\t\t\n",
        "assert monkey_trouble(False, False) == True\t\t\n",
        "assert monkey_trouble(True, False) == False\t\n",
        "assert monkey_trouble(False, True) ==False\n",
        "print(\"All the testcases passed\")"
      ],
      "execution_count": 0,
      "outputs": [
        {
          "output_type": "stream",
          "text": [
            "All the testcases passed\n"
          ],
          "name": "stdout"
        }
      ]
    },
    {
      "metadata": {
        "id": "sjLUHoCuO9ej",
        "colab_type": "text"
      },
      "cell_type": "markdown",
      "source": [
        "Given two int values, return their sum. Unless the two values are the same, then return double their sum.\n",
        "\n",
        "\n",
        "sum_double(1, 2) → 3\n",
        "sum_double(3, 2) → 5\n",
        "sum_double(2, 2) → 8"
      ]
    },
    {
      "metadata": {
        "id": "_XvpSPspRPk5",
        "colab_type": "code",
        "outputId": "0ca846f7-ee0c-4e2c-a818-c8847616bf0a",
        "colab": {
          "base_uri": "https://localhost:8080/",
          "height": 34
        }
      },
      "cell_type": "code",
      "source": [
        "def sum_double(a, b):\n",
        "  if(a!=b):\n",
        "    return a+b\n",
        "  if(a==b):\n",
        "    return (a+b)*2\n",
        "\n",
        "assert sum_double(1, 2) == 3\t\n",
        "assert sum_double(3, 2) == 5\t\t\n",
        "assert sum_double(2, 2) == 8\t\n",
        "assert sum_double(-1, 0) == -1\t\n",
        "assert sum_double(3, 3) == 12\t\n",
        "assert sum_double(0, 0) == 0\t\t\n",
        "assert sum_double(0, 1) == 1\t\t\n",
        "assert sum_double(3, 4) == 7\t\n",
        "print(\"All the testcases passed\")"
      ],
      "execution_count": 0,
      "outputs": [
        {
          "output_type": "stream",
          "text": [
            "All the testcases passed\n"
          ],
          "name": "stdout"
        }
      ]
    },
    {
      "metadata": {
        "id": "6kvOj3ZRSmYf",
        "colab_type": "text"
      },
      "cell_type": "markdown",
      "source": [
        "Given an int n, return the absolute difference between n and 21, except return double the absolute difference if n is over 21.\n",
        "\n",
        "\n",
        "diff21(19) → 2\n",
        "diff21(10) → 11\n",
        "diff21(21) → 0"
      ]
    },
    {
      "metadata": {
        "id": "Wfw2juJWStEB",
        "colab_type": "code",
        "outputId": "8d0cea1b-38b3-4762-f5c5-045f428887f5",
        "colab": {
          "base_uri": "https://localhost:8080/",
          "height": 34
        }
      },
      "cell_type": "code",
      "source": [
        "def diff21(n):\n",
        "  if(n<=21):\n",
        "    diff = 21 - n\n",
        "    return diff\n",
        "  if(n>21):\n",
        "    diff2 = (n - 21) * 2\n",
        "    return diff2\n",
        "  \n",
        "assert diff21(19) == 2\t\n",
        "assert diff21(10) ==  11\t\t\n",
        "assert diff21(21) == 0\t\t\n",
        "assert diff21(22) == 2\t\t\n",
        "assert diff21(25) == 8\t\n",
        "assert diff21(30) == 18\t\t\n",
        "assert diff21(0) == 21\t\t\n",
        "assert diff21(1) == 20\t\t\n",
        "assert diff21(2) == 19\t\n",
        "assert diff21(-1) == 22\t\t\n",
        "assert diff21(-2) == 23\t\n",
        "assert diff21(50) == 58\t\n",
        "print(\"All the testcases passed\")"
      ],
      "execution_count": 0,
      "outputs": [
        {
          "output_type": "stream",
          "text": [
            "All the testcases passed\n"
          ],
          "name": "stdout"
        }
      ]
    },
    {
      "metadata": {
        "id": "Ca3KlRa7TcoX",
        "colab_type": "text"
      },
      "cell_type": "markdown",
      "source": [
        "We have a loud talking parrot. The \"hour\" parameter is the current hour time in the range 0..23. We are in trouble if the parrot is talking and the hour is before 7 or after 20. Return True if we are in trouble.\n",
        "\n",
        "\n",
        "parrot_trouble(True, 6) → True\n",
        "parrot_trouble(True, 7) → False\n",
        "parrot_trouble(False, 6) → False"
      ]
    },
    {
      "metadata": {
        "id": "26IIf16XTkYL",
        "colab_type": "code",
        "outputId": "1f043d85-dfab-4d41-8eb7-a7844d7ba808",
        "colab": {
          "base_uri": "https://localhost:8080/",
          "height": 34
        }
      },
      "cell_type": "code",
      "source": [
        "def parrot_trouble(talking, hour):\n",
        "  if((talking and hour < 7) or (talking and hour > 20)):\n",
        "     return True\n",
        "  if((talking and hour > 7) or (talking and hour < 20)):\n",
        "      return False\n",
        "  if((talking == False and hour < 7) or (talking == False and hour > 20)):\n",
        "      return False\n",
        "  if((talking == False and hour > 7) or (talking == False and hour < 20)):\n",
        "      return False\n",
        "  \n",
        "   \n",
        "  \n",
        "assert parrot_trouble(True, 6) == True\t\n",
        "assert parrot_trouble(True, 7) == False\t\t\n",
        "assert parrot_trouble(False, 6) == False\t\n",
        "assert parrot_trouble(True, 21) == True\n",
        "assert parrot_trouble(False, 21) == False\t\n",
        "assert parrot_trouble(False, 20) == False\n",
        "assert parrot_trouble(True, 23) == True\n",
        "assert parrot_trouble(False, 23) == False\n",
        "assert parrot_trouble(True, 20) == False\n",
        "assert parrot_trouble(False, 12) == False\n",
        "print(\"All the testcases passed\")"
      ],
      "execution_count": 0,
      "outputs": [
        {
          "output_type": "stream",
          "text": [
            "All the testcases passed\n"
          ],
          "name": "stdout"
        }
      ]
    },
    {
      "metadata": {
        "id": "vUbnzysgUW9S",
        "colab_type": "text"
      },
      "cell_type": "markdown",
      "source": [
        "Given 2 ints, a and b, return True if one if them is 10 or if their sum is 10.\n",
        "\n",
        "\n",
        "makes10(9, 10) → True\n",
        "makes10(9, 9) → False\n",
        "makes10(1, 9) → True"
      ]
    },
    {
      "metadata": {
        "id": "JYwedJEUUX8L",
        "colab_type": "code",
        "outputId": "b5a46cbc-1c5d-4ae1-b0b1-50ca723562fb",
        "colab": {
          "base_uri": "https://localhost:8080/",
          "height": 34
        }
      },
      "cell_type": "code",
      "source": [
        "def makes10(a, b):\n",
        "  sum = a + b\n",
        "  if(a==10 or b==10):\n",
        "    return True\n",
        "  elif(sum==10):\n",
        "    return True\n",
        "  else:\n",
        "    return False\n",
        "  \n",
        "  \n",
        "assert makes10(9, 10) == True\n",
        "assert makes10(9, 9) == False\n",
        "assert makes10(1, 9) == True\n",
        "assert makes10(10, 1) == True\n",
        "assert makes10(10, 10) == True\n",
        "assert makes10(8, 2) == True\n",
        "assert makes10(8, 3) == False\n",
        "assert makes10(10, 42) == True\n",
        "assert makes10(12, -2) == True\n",
        "print(\"All the testcases passed\")"
      ],
      "execution_count": 0,
      "outputs": [
        {
          "output_type": "stream",
          "text": [
            "All the testcases passed\n"
          ],
          "name": "stdout"
        }
      ]
    },
    {
      "metadata": {
        "id": "PbLJDLquVUBb",
        "colab_type": "text"
      },
      "cell_type": "markdown",
      "source": [
        "Given an int n, return True if it is within 10 of 100 or 200. Note: abs(num) computes the absolute value of a number.\n",
        "\n",
        "\n",
        "near_hundred(93) → True\n",
        "near_hundred(90) → True\n",
        "near_hundred(89) → False"
      ]
    },
    {
      "metadata": {
        "id": "psRpqGSiVVPB",
        "colab_type": "code",
        "outputId": "818cb49a-a61d-4e23-b5e7-8e5a658003a4",
        "colab": {
          "base_uri": "https://localhost:8080/",
          "height": 34
        }
      },
      "cell_type": "code",
      "source": [
        "def near_hundred(n):\n",
        "  if((n >= 90 and n <= 110) or (n >=190 and n <= 210)):\n",
        "    return True\n",
        "  else:\n",
        "    return False\n",
        "assert near_hundred(89) == False\n",
        "assert near_hundred(110) == True\t\n",
        "assert near_hundred(111) == False\n",
        "assert near_hundred(121) == False\n",
        "near_hundred(-101) == False\n",
        "near_hundred(-209) == False\n",
        "near_hundred(190) == True\n",
        "print(\"All the testcases passed\")"
      ],
      "execution_count": 0,
      "outputs": [
        {
          "output_type": "stream",
          "text": [
            "All the testcases passed\n"
          ],
          "name": "stdout"
        }
      ]
    },
    {
      "metadata": {
        "id": "GG6OeyPfWgBi",
        "colab_type": "text"
      },
      "cell_type": "markdown",
      "source": [
        "Given 2 int values, return True if one is negative and one is positive. Except if the parameter \"negative\" is True, then return True only if both are negative.\n",
        "\n",
        "\n",
        "pos_neg(1, -1, False) → True\n",
        "pos_neg(-1, 1, False) → True\n",
        "pos_neg(-4, -5, True) → True"
      ]
    },
    {
      "metadata": {
        "id": "HQFebLGSWh3D",
        "colab_type": "code",
        "outputId": "43708e49-72c4-421e-de9a-9441f7597e4c",
        "colab": {
          "base_uri": "https://localhost:8080/",
          "height": 34
        }
      },
      "cell_type": "code",
      "source": [
        "def pos_neg(a, b, negative):\n",
        "  if((a > 0 and b < 0) and negative == False):\n",
        "    return True\n",
        "  elif((a < 0 and b > 0) and negative == False):\n",
        "    return True\n",
        "  elif((a < 0 and b < 0) and negative == True):\n",
        "    return True\n",
        "  else:\n",
        "    return False\n",
        "  \n",
        "assert pos_neg(1, -1, True) == False\t\n",
        "assert pos_neg(-1, 1, True) == False\t\n",
        "assert pos_neg(1, 1, True) == False\n",
        "assert pos_neg(-1, -1, True) == True\t\n",
        "assert pos_neg(5, -5, False) == True\t\n",
        "assert pos_neg(-6, 6, False) == True\n",
        "print(\"All the testcases passed\")"
      ],
      "execution_count": 0,
      "outputs": [
        {
          "output_type": "stream",
          "text": [
            "All the testcases passed\n"
          ],
          "name": "stdout"
        }
      ]
    }
  ]
}